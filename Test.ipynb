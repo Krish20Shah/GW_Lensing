{
 "cells": [
  {
   "cell_type": "code",
   "execution_count": 37,
   "metadata": {},
   "outputs": [],
   "source": [
    "import numpy as np\n",
    "import matplotlib.pyplot as plt\n",
    "from pycbc.types import FrequencySeries, TimeSeries,zeros\n",
    "from pycbc.fft import fft, ifft\n"
   ]
  },
  {
   "cell_type": "code",
   "execution_count": 9,
   "metadata": {},
   "outputs": [],
   "source": [
    "total_mass = 100\n",
    "q = 7\n",
    "m1 = 100/(q+1)\n",
    "m2 = q * 100/(q+1)"
   ]
  },
  {
   "cell_type": "code",
   "execution_count": 45,
   "metadata": {},
   "outputs": [
    {
     "data": {
      "text/plain": [
       "(409600,)"
      ]
     },
     "execution_count": 45,
     "metadata": {},
     "output_type": "execute_result"
    }
   ],
   "source": [
    "warr = WaveformArray(1, names=['mass1', 'mass2','inclination'])\n",
    "warr[0] = (m1,m2,np.pi/3)"
   ]
  },
  {
   "cell_type": "code",
   "execution_count": 26,
   "metadata": {},
   "outputs": [],
   "source": [
    "hp, hc = get_fd_waveform(approximant=\"IMRPhenomXPHM\",\n",
    "                         mass1= m1,\n",
    "                         mass2= m2,\n",
    "                         delta_t=1.0/4096,\n",
    "                         inclination = np.pi/3,\n",
    "                         f_lower=30,\n",
    "                        delta_f = 0.01)\n",
    "\n",
    "hpt, hct = pycbc.waveform.waveform.get_td_waveform(approximant=\"IMRPhenomD\",\n",
    "                         mass1= m1,\n",
    "                         mass2= m2,\n",
    "                         delta_t=1.0/4096,\n",
    "                         inclination = np.pi/3,\n",
    "                         f_lower=30,\n",
    "                        \n",
    "                    \n",
    "                        )\n",
    "\n",
    "hpr , hcr = hp , hc\n",
    "            "
   ]
  },
  {
   "cell_type": "code",
   "execution_count": null,
   "metadata": {},
   "outputs": [],
   "source": [
    "from pycbc import fft\n",
    "\n",
    "phase_shift = np.pi/4\n",
    "shifted_hp = hpr * np.exp(-1j * phase_shift)\n",
    "\n",
    "\n",
    "\n",
    "tlen = int(1.0 / hpt.delta_t / shifted_hp.delta_f)\n",
    "shifted_hp.resize(tlen/2 + 1)\n",
    "shifted_hp_time = pycbc.types.TimeSeries(pycbc.types.zeros(tlen), delta_t=shifted_hp.delta_t)\n",
    "ifft_class = pycbc.fft.IFFT(shifted_hp, shifted_hp_time)\n",
    "ifft_class.execute()\n",
    "shifted_hp_time *= shifted_hp._delta_f\n",
    "\n",
    "tlen = int(1.0 / hpt.delta_t / hp.delta_f)\n",
    "hp.resize(tlen/2 + 1)\n",
    "sp = pycbc.types.TimeSeries(pycbc.types.zeros(tlen), delta_t=shifted_hp.delta_t)\n",
    "ifft_class = pycbc.fft.IFFT(hp, sp)\n",
    "ifft_class.execute()\n",
    "sp *= hp._delta_f # ONLY IF inarr is a FrequencySeries"
   ]
  },
  {
   "cell_type": "code",
   "execution_count": null,
   "metadata": {},
   "outputs": [],
   "source": [
    "pylab.plot(shifted_hp_time.sample_times, shifted_hp_time, label=\" (IFFT) shifted\")\n",
    "pylab.plot(sp.sample_times, sp, label=\" (IFFT)\")\n",
    "pylab.xlim(-.25, .1)\n",
    "pylab.ylabel('Strain')\n",
    "pylab.xlabel('Time (s)')\n",
    "pylab.legend()\n",
    "pylab.show()"
   ]
  }
 ],
 "metadata": {
  "kernelspec": {
   "display_name": "Python 3.9.16 64-bit ('igwn-py39')",
   "language": "python",
   "name": "python3"
  },
  "language_info": {
   "codemirror_mode": {
    "name": "ipython",
    "version": 3
   },
   "file_extension": ".py",
   "mimetype": "text/x-python",
   "name": "python",
   "nbconvert_exporter": "python",
   "pygments_lexer": "ipython3",
   "version": "3.9.16"
  },
  "orig_nbformat": 4,
  "vscode": {
   "interpreter": {
    "hash": "53ba369362a44ab66be357079dea333b0d256983a37e7fd93053e137eadcd3ae"
   }
  }
 },
 "nbformat": 4,
 "nbformat_minor": 2
}
