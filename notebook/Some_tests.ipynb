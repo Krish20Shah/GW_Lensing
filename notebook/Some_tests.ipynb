{
 "cells": [
  {
   "cell_type": "code",
   "execution_count": null,
   "metadata": {},
   "outputs": [],
   "source": [
    "import pycbc\n",
    "import matplotlib.pyplot as plt\n",
    "from pycbc.waveform import get_td_waveform,get_fd_waveform, fd_approximants\n",
    "import numpy as np\n",
    "import pylab"
   ]
  },
  {
   "cell_type": "code",
   "execution_count": null,
   "metadata": {},
   "outputs": [],
   "source": [
    "mt = 100.0\n",
    "q = 7.0\n",
    "l = np.pi/3\n",
    "\n",
    "deltaF = 0.01\n",
    "f_min = 20.\n",
    "phase = 0.\n",
    "sampling_rate = 4096.\n",
    "deltaT = 1/sampling_rate"
   ]
  },
  {
   "cell_type": "markdown",
   "metadata": {},
   "source": [
    "Here I am conducting a test to test which way to the final signal is suitable\n",
    "\n",
    "1. Frequency --> Time\n",
    "\n",
    "a. Using numpy\n",
    "\n",
    "b. Using .to_time_series\n",
    "\n",
    "2. Time --> Frequency --> Time\n",
    "\n",
    "a. Using .to_frequencyseries + .to_timeseries\n",
    "\n",
    "b. Using .to_frequencyseries + numpy"
   ]
  },
  {
   "cell_type": "code",
   "execution_count": null,
   "metadata": {},
   "outputs": [],
   "source": [
    "shifted_hp, shifted_hc = get_td_waveform(approximant=\"IMRPhenomXPHM\",\n",
    "                         mass1=mt * q / (1 + q), \n",
    "                         mass2=mt  / (1 + q), \n",
    "                         delta_t=1.0/4096, \n",
    "                         f_lower=20.0,\n",
    "                         f_final = 2048,\n",
    "                         coa_phase = 0,\n",
    "                         inclination=l)\n",
    "\n",
    "hpf, hcf = get_fd_waveform(approximant='IMRPhenomXPHM', mass1=mt * q / (1 + q), \n",
    "                         mass2=mt  / (1 + q), \n",
    "                         delta_t=1.0/4096, \n",
    "                         f_lower=20.0,\n",
    "                         delta_f = 0.01,\n",
    "                         f_final = 2048,\n",
    "                         coa_phase = 0,\n",
    "                         inclination=l)"
   ]
  },
  {
   "cell_type": "markdown",
   "metadata": {},
   "source": [
    "Method 1. Frequency to Time\n",
    "a. Using Numpy"
   ]
  },
  {
   "cell_type": "code",
   "execution_count": null,
   "metadata": {},
   "outputs": [],
   "source": [
    "Fp = 1\n",
    "Fc = 0.\n",
    "hf = Fp*hpf.data + Fc*hcf.data\n",
    "\n",
    "\n",
    "\n",
    "ht = np.fft.irfft(hf)\n",
    "\n",
    "ht_new = np.zeros(len(ht))\n",
    "cut_time=0.1\n",
    "ht_new[0:len(ht)-int(cut_time/deltaT)]=ht[int(cut_time/deltaT):len(ht)]\n",
    "ht_new[len(ht)-int(cut_time/deltaT):len(ht)]=ht[0:int(cut_time/deltaT)]\n",
    "\n",
    "t = np.arange(0, len(ht)*deltaT, deltaT)\n",
    "idx = np.where(ht_new==max(ht_new))[0][0]\n",
    "t = t-t[idx]"
   ]
  },
  {
   "cell_type": "markdown",
   "metadata": {},
   "source": [
    "b. Using .to_time_series"
   ]
  },
  {
   "cell_type": "code",
   "execution_count": null,
   "metadata": {},
   "outputs": [],
   "source": [
    "hbt = hpf.to_timeseries()"
   ]
  },
  {
   "cell_type": "markdown",
   "metadata": {},
   "source": [
    "Method 2\n",
    "\n",
    "a. Using Using .to_frequencyseries + .to_timeseries"
   ]
  },
  {
   "cell_type": "code",
   "execution_count": null,
   "metadata": {},
   "outputs": [],
   "source": [
    "shifted_hpt = shifted_hp.to_frequencyseries()\n",
    "\n",
    "new_shift  = shifted_hpt.to_timeseries()"
   ]
  },
  {
   "cell_type": "markdown",
   "metadata": {},
   "source": [
    "b = Using .to_frequencyseries + numpy"
   ]
  },
  {
   "cell_type": "code",
   "execution_count": null,
   "metadata": {},
   "outputs": [],
   "source": [
    "hnew2 = Fp*shifted_hpt.data \n",
    "\n",
    "\n",
    "\n",
    "newh2 = np.fft.irfft(hnew2)\n",
    "\n",
    "newh2_new = np.zeros(len(newh2))\n",
    "cut_time=0.1\n",
    "newh2_new[0:len(newh2)-int(cut_time/deltaT)]=newh2[int(cut_time/deltaT):len(newh2)]\n",
    "newh2_new[len(newh2)-int(cut_time/deltaT):len(newh2)]=newh2[0:int(cut_time/deltaT)]\n",
    "\n",
    "tnew = np.arange(0, len(newh2)*deltaT, deltaT)\n",
    "idx = np.where(newh2_new==max(newh2_new))[0][0]\n",
    "tnew = tnew-tnew[idx]"
   ]
  },
  {
   "cell_type": "code",
   "execution_count": null,
   "metadata": {},
   "outputs": [],
   "source": [
    "pylab.plot(t,ht_new,label=\"M1-a\")\n",
    "pylab.plot(tnew,newh2_new,label=\"M2-b\")\n",
    "pylab.plot(new_shift.sample_times,new_shift,'-k',label = \"M2-a\")\n",
    "pylab.plot(shifted_hp.sample_times,shifted_hp,':y',label=\"Origina\")\n",
    "pylab.plot(hbt.sample_times,hbt,label=\"M1-b\")\n",
    "pylab.xlim(-0.25,0.04)\n",
    "pylab.legend()\n",
    "pylab.show()"
   ]
  },
  {
   "cell_type": "markdown",
   "metadata": {},
   "source": [
    "Zooming in to get M1-a and M2-b"
   ]
  },
  {
   "cell_type": "code",
   "execution_count": null,
   "metadata": {},
   "outputs": [],
   "source": [
    "pylab.plot(t,ht_new,label=\"M1-a\")\n",
    "pylab.plot(tnew,newh2_new,label=\"M2-b\")\n",
    "#pylab.plot(new_shift.sample_times,new_shift,'-k',label = \"M2-a\")\n",
    "#pylab.plot(shifted_hp.sample_times,shifted_hp,':y',label=\"Origina\")\n",
    "#pylab.plot(hbt.sample_times,hbt,label=\"M1-b\")\n",
    "pylab.xlim(-0.25,0.04)\n",
    "pylab.legend()\n",
    "pylab.show()"
   ]
  },
  {
   "cell_type": "markdown",
   "metadata": {},
   "source": [
    "**RESULTS**\n",
    "\n",
    "M1-a is very small compared to the original waveform obtained from `get_td_waveform`\n",
    "\n",
    "M1-b has similar values of maxima as of originl but could not retrieve the full signal and is also shifted.\n",
    "\n",
    "M2-a is perfect and matches exactly.\n",
    "\n",
    "M2-b is also very small but from the shape of waveform from zoomed in graph it has a similar evolution when retrieving."
   ]
  },
  {
   "cell_type": "code",
   "execution_count": null,
   "metadata": {},
   "outputs": [],
   "source": []
  }
 ],
 "metadata": {
  "language_info": {
   "name": "python"
  },
  "orig_nbformat": 4
 },
 "nbformat": 4,
 "nbformat_minor": 2
}
